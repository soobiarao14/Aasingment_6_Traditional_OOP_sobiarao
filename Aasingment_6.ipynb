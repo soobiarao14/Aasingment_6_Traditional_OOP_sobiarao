{
  "nbformat": 4,
  "nbformat_minor": 0,
  "metadata": {
    "colab": {
      "provenance": [],
      "authorship_tag": "ABX9TyPwDIwPOZ7WtYfVfQrxmZRE",
      "include_colab_link": true
    },
    "kernelspec": {
      "name": "python3",
      "display_name": "Python 3"
    },
    "language_info": {
      "name": "python"
    }
  },
  "cells": [
    {
      "cell_type": "markdown",
      "metadata": {
        "id": "view-in-github",
        "colab_type": "text"
      },
      "source": [
        "<a href=\"https://colab.research.google.com/github/soobiarao14/Aasingment_6_Traditional_OOP_sobiarao/blob/main/Aasingment_6.ipynb\" target=\"_parent\"><img src=\"https://colab.research.google.com/assets/colab-badge.svg\" alt=\"Open In Colab\"/></a>"
      ]
    },
    {
      "cell_type": "markdown",
      "source": [
        "# Assignment 6 by [Sobia_Rao]"
      ],
      "metadata": {
        "id": "9l0XBP824nEU"
      }
    },
    {
      "cell_type": "markdown",
      "source": [
        "1. Using self\n",
        "Assignment:\n",
        "Create a class Student with attributes name and marks. Use the self keyword to initialize these values via a constructor. Add a method display() that prints student details.\n",
        "\n"
      ],
      "metadata": {
        "id": "VtckmyI9jU3U"
      }
    },
    {
      "cell_type": "code",
      "source": [
        "class Student:\n",
        "    def __init__(self, name, marks):\n",
        "        self.name = name        # self ka matlab current object\n",
        "        self.marks = marks      # object ka attribute set kar rahe hain\n",
        "\n",
        "    def display(self):\n",
        "        print(f\"Name: {self.name}\")\n",
        "        print(f\"Marks: {self.marks}\")\n",
        "\n",
        "        # Object banate hain\n",
        "student1 = Student(\"saif\", 95)\n",
        "student2 = Student(\"sobia\", 85)\n",
        "\n",
        "# Display method call karte hain\n",
        "student1.display()\n",
        "student2.display()\n",
        "\n",
        "\n"
      ],
      "metadata": {
        "colab": {
          "base_uri": "https://localhost:8080/"
        },
        "id": "qldehHyKKTsa",
        "outputId": "c9bc0f6f-2548-4c32-99b6-51b51ad20bee"
      },
      "execution_count": null,
      "outputs": [
        {
          "output_type": "stream",
          "name": "stdout",
          "text": [
            "Name: saif\n",
            "Marks: 95\n",
            "Name: sobia\n",
            "Marks: 85\n"
          ]
        }
      ]
    },
    {
      "cell_type": "markdown",
      "source": [
        "2. Using cls\n",
        "Assignment:\n",
        "Create a class Counter that keeps track of how many objects have been created. Use a class variable and a class method with cls to manage and display the count."
      ],
      "metadata": {
        "id": "rED30QNZEBp8"
      }
    },
    {
      "cell_type": "code",
      "source": [
        "class Counter:\n",
        "    count = 0  # Class variable to store number of instances\n",
        "\n",
        "    def __init__(self):\n",
        "        Counter.count += 1\n",
        "\n",
        "    @classmethod\n",
        "    def show_count(cls):\n",
        "        print(f\"Total Counter objects created: {cls.count}\")\n",
        "\n",
        "\n",
        "# Creating objects\n",
        "obj1 = Counter()\n",
        "obj2 = Counter()\n",
        "obj3 = Counter()\n",
        "\n",
        "# Showing total count using class method\n",
        "Counter.show_count()\n"
      ],
      "metadata": {
        "colab": {
          "base_uri": "https://localhost:8080/"
        },
        "id": "IMAa_Z-UJ7V5",
        "outputId": "244cb7d0-e812-4660-9967-da4481752638"
      },
      "execution_count": null,
      "outputs": [
        {
          "output_type": "stream",
          "name": "stdout",
          "text": [
            "Total Counter objects created: 3\n"
          ]
        }
      ]
    },
    {
      "cell_type": "markdown",
      "source": [
        "3. Public Variables and Methods\n",
        "Assignment:\n",
        "Create a class Car with a public variable brand and a public method start(). Instantiate the class and access both from outside the class."
      ],
      "metadata": {
        "id": "DlfUuGVBLDDp"
      }
    },
    {
      "cell_type": "code",
      "source": [
        "class Car:\n",
        "    def __init__(self, brand):\n",
        "        self.brand = brand  # Public variable\n",
        "\n",
        "    def start(self):        # Public method\n",
        "        print(f\"{self.brand} car has started.\")\n",
        "        # Object create karna\n",
        "my_car = Car(\"Honda\")\n",
        "\n",
        "# Public variable access karna\n",
        "print(my_car.brand)\n",
        "\n",
        "# Public method call karna\n",
        "my_car.start()\n",
        "\n",
        "\n",
        "\n",
        "\n",
        "\n"
      ],
      "metadata": {
        "colab": {
          "base_uri": "https://localhost:8080/"
        },
        "id": "Cm9iiHyFLSeq",
        "outputId": "0a756e83-33c3-44ed-bf33-4b419c89a3ac"
      },
      "execution_count": null,
      "outputs": [
        {
          "output_type": "stream",
          "name": "stdout",
          "text": [
            "Honda\n",
            "Honda car has started.\n"
          ]
        }
      ]
    },
    {
      "cell_type": "markdown",
      "source": [
        "4. Class Variables and Class Methods\n",
        "Assignment:\n",
        "Create a class Bank with a class variable bank_name. Add a class method change_bank_name(cls, name) that allows changing the bank name. Show that it affects all instances.?"
      ],
      "metadata": {
        "id": "ubUCplHUTusz"
      }
    },
    {
      "cell_type": "code",
      "source": [
        "class Bank:\n",
        "    # Class variable\n",
        "    bank_name = \"Alfalh Bank\"\n",
        "\n",
        "    def __init__(self, customer_name):\n",
        "        self.customer_name = customer_name\n",
        "\n",
        "    @classmethod\n",
        "    def change_bank_name(cls, name):\n",
        "        cls.bank_name = name\n",
        "\n",
        "    def display(self):\n",
        "        print(f\"Customer Name: {self.customer_name}, Bank Name: {Bank.bank_name}\")\n",
        "\n",
        "\n",
        "# Create instances\n",
        "account1 = Bank(\"sobia\")\n",
        "account2 = Bank(\"rao\")\n",
        "\n",
        "# Display bank name for both accounts (before change)\n",
        "print(\"Before changing bank name:\")\n",
        "account1.display()\n",
        "account2.display()\n",
        "\n",
        "# Change the bank name using class method\n",
        "Bank.change_bank_name(\"bankislami.\")\n",
        "\n",
        "# Display bank name again to show effect on all instances\n",
        "print(\"\\nAfter changing bank name:\")\n",
        "account1.display()\n",
        "account2.display()\n"
      ],
      "metadata": {
        "colab": {
          "base_uri": "https://localhost:8080/"
        },
        "id": "9Md509Tr4AXV",
        "outputId": "a2d3c65f-66a1-4268-fa40-756427c2f650"
      },
      "execution_count": null,
      "outputs": [
        {
          "output_type": "stream",
          "name": "stdout",
          "text": [
            "Before changing bank name:\n",
            "Customer Name: sobia, Bank Name: Alfalh Bank\n",
            "Customer Name: rao, Bank Name: Alfalh Bank\n",
            "\n",
            "After changing bank name:\n",
            "Customer Name: sobia, Bank Name: bankislami.\n",
            "Customer Name: rao, Bank Name: bankislami.\n"
          ]
        }
      ]
    },
    {
      "cell_type": "markdown",
      "source": [
        "5. Static Variables and Static Methods\n",
        "Assignment:\n",
        "Create a class MathUtils with a static method add(a, b) that returns the sum. No class or instance variables should be used.?"
      ],
      "metadata": {
        "id": "qRIA-bhGFo3a"
      }
    },
    {
      "cell_type": "code",
      "source": [
        "class MathUtils:\n",
        "    @staticmethod\n",
        "    def add(a, b):\n",
        "        return a + b\n",
        "\n",
        "# Using the static method without creating an instance\n",
        "result = MathUtils.add(30, 15)\n",
        "print(\"Sum:\", result)\n"
      ],
      "metadata": {
        "colab": {
          "base_uri": "https://localhost:8080/"
        },
        "id": "E8YWilmDGQRS",
        "outputId": "a04f44e5-858b-41ca-e1f0-282d384b63b5"
      },
      "execution_count": null,
      "outputs": [
        {
          "output_type": "stream",
          "name": "stdout",
          "text": [
            "Sum: 45\n"
          ]
        }
      ]
    },
    {
      "cell_type": "markdown",
      "source": [
        "6. Constructors and Destructors\n",
        "Assignment:\n",
        "Create a class Logger that prints a message when an object is created (constructor) and another message when it is destroyed (destructor).?"
      ],
      "metadata": {
        "id": "oVdDT2XBTHX5"
      }
    },
    {
      "cell_type": "code",
      "source": [
        "class Logger:\n",
        "    def __init__(self):\n",
        "        print(\"Logger object has been created.\")\n",
        "\n",
        "    def __del__(self):\n",
        "        print(\"Logger object is being destroyed.\")\n",
        "\n",
        "# Create an object\n",
        "my_logger = Logger()\n",
        "\n",
        "# Delete the object\n",
        "del my_logger\n"
      ],
      "metadata": {
        "colab": {
          "base_uri": "https://localhost:8080/"
        },
        "id": "oQUXjfuNT-PP",
        "outputId": "a2654ff2-52a5-4023-e0e5-f8c8229bdb0f"
      },
      "execution_count": null,
      "outputs": [
        {
          "output_type": "stream",
          "name": "stdout",
          "text": [
            "Logger object has been created.\n",
            "Logger object is being destroyed.\n"
          ]
        }
      ]
    },
    {
      "cell_type": "markdown",
      "source": [
        "7. Access Modifiers: Public, Private, and Protected\n",
        "Assignment:\n",
        "Create a class Employee with:\n",
        "\n",
        "a public variable name,\n",
        "\n",
        "a protected variable _salary, and\n",
        "\n",
        "a private variable __ssn.\n",
        "\n",
        "Try accessing all three variables from an object of the class and document what happens.?"
      ],
      "metadata": {
        "id": "GsLsS3vUUPig"
      }
    },
    {
      "cell_type": "code",
      "source": [
        "class Employee:\n",
        "    def __init__(self, name, salary, ssn):\n",
        "        self.name = name          # Public variable\n",
        "        self._salary = salary     # Protected variable (by convention)\n",
        "        self.__ssn = ssn          # Private variable (name mangling)\n",
        "\n",
        "# Create an object of the class\n",
        "staffMember = Employee(\"sobia\", 70000, \"123-441-6789\")\n",
        "\n",
        "# Access public variable\n",
        "print(\"Public - Name:\", staffMember.name)\n",
        "\n",
        "# Access protected variable\n",
        "print(\"Protected - Salary:\", staffMember._salary)\n",
        "\n",
        "# Try to access private variable directly (will raise AttributeError)\n",
        "try:\n",
        "    print(\"Private - SSN:\", staffMember.__ssn)\n",
        "except AttributeError as e:\n",
        "    print(\"Private - SSN: Cannot access directly. Error:\", e)\n",
        "\n",
        "# Access private variable using special syntax\n",
        "print(\"Private - SSN (using special syntax):\", staffMember._Employee__ssn)\n"
      ],
      "metadata": {
        "colab": {
          "base_uri": "https://localhost:8080/"
        },
        "id": "6h9rrZ5IVyOY",
        "outputId": "557f48c4-f0b1-4e1a-ad2b-91d413d897a2"
      },
      "execution_count": null,
      "outputs": [
        {
          "output_type": "stream",
          "name": "stdout",
          "text": [
            "Public - Name: sobia\n",
            "Protected - Salary: 70000\n",
            "Private - SSN: Cannot access directly. Error: 'Employee' object has no attribute '__ssn'\n",
            "Private - SSN (using special syntax): 123-441-6789\n"
          ]
        }
      ]
    },
    {
      "cell_type": "markdown",
      "source": [
        "8. The super() Function\n",
        "Assignment:\n",
        "Create a class Person with a constructor that sets the name. Inherit a class Teacher from it, add a subject field, and use super() to call the base class constructor.?"
      ],
      "metadata": {
        "id": "UmdW6P-6WRvO"
      }
    },
    {
      "cell_type": "code",
      "source": [
        "class Person:\n",
        "    def __init__(self, name):\n",
        "        self.name = name\n",
        "\n",
        "class Teacher(Person):\n",
        "    def __init__(self, name, subject):\n",
        "        super().__init__(name)  # Calling the constructor of Person\n",
        "        self.subject = subject\n",
        "\n",
        "    def display_info(self):\n",
        "        print(f\"Name: {self.name}, Subject: {self.subject}\")\n",
        "\n",
        "# Create an object of Teacher\n",
        "teacher1 = Teacher(\"Mr. hamza\", \"computer\")\n",
        "\n",
        "# Display the information\n",
        "teacher1.display_info()\n"
      ],
      "metadata": {
        "colab": {
          "base_uri": "https://localhost:8080/"
        },
        "id": "oBdgZLJxWUq_",
        "outputId": "911d52f0-322c-436b-aced-0ad4e6e0df36"
      },
      "execution_count": null,
      "outputs": [
        {
          "output_type": "stream",
          "name": "stdout",
          "text": [
            "Name: Mr. hamza, Subject: computer\n"
          ]
        }
      ]
    },
    {
      "cell_type": "markdown",
      "source": [
        "9. Abstract Classes and Methods\n",
        "Assignment:\n",
        "Use the abc module to create an abstract class Shape with an abstract method area(). Inherit a class Rectangle that implements area().?"
      ],
      "metadata": {
        "id": "AGiTt8vhXaue"
      }
    },
    {
      "cell_type": "code",
      "source": [
        "from abc import ABC, abstractmethod\n",
        "\n",
        "# Abstract class\n",
        "class Shape(ABC):\n",
        "\n",
        "    @abstractmethod\n",
        "    def area(self):\n",
        "        pass\n",
        "\n",
        "# Subclass Rectangle implementing area()\n",
        "class Rectangle(Shape):\n",
        "\n",
        "    def __init__(self, width, height):\n",
        "        self.width = width\n",
        "        self.height = height\n",
        "\n",
        "    def area(self):\n",
        "        return self.width * self.height\n",
        "\n",
        "# Create a Rectangle object and call area\n",
        "rect = Rectangle(15, 5)\n",
        "print(\"Area of rectangle:\", rect.area())\n"
      ],
      "metadata": {
        "colab": {
          "base_uri": "https://localhost:8080/"
        },
        "id": "8eDBP0paXj4u",
        "outputId": "225382f7-722c-4ed1-9d4f-6111aef00002"
      },
      "execution_count": null,
      "outputs": [
        {
          "output_type": "stream",
          "name": "stdout",
          "text": [
            "Area of rectangle: 75\n"
          ]
        }
      ]
    },
    {
      "cell_type": "markdown",
      "source": [
        "10. Instance Methods\n",
        "Assignment:\n",
        "Create a class Dog with instance variables name and breed. Add an instance method bark() that prints a message including the dog's name."
      ],
      "metadata": {
        "id": "vh_7z5rsXtzn"
      }
    },
    {
      "cell_type": "code",
      "source": [
        "class Dog:\n",
        "    def __init__(self, name, breed):\n",
        "        self.name = name\n",
        "        self.breed = breed\n",
        "\n",
        "    def bark(self):\n",
        "        print(f\"{self.name} is barking!\")\n",
        "\n",
        "# Create an instance of Dog with different details\n",
        "new_dog1 = Dog(\"Rex\", \"German Shepherd\")\n",
        "\n",
        "# Call the instance method\n",
        "new_dog1.bark()\n"
      ],
      "metadata": {
        "colab": {
          "base_uri": "https://localhost:8080/"
        },
        "id": "q_rxBw8SZABb",
        "outputId": "862541b1-a88d-406d-875a-964e19e05335"
      },
      "execution_count": null,
      "outputs": [
        {
          "output_type": "stream",
          "name": "stdout",
          "text": [
            "Rex is barking!\n"
          ]
        }
      ]
    },
    {
      "cell_type": "markdown",
      "source": [
        "11. Class Methods\n",
        "Assignment:\n",
        "Create a class Book with a class variable total_books. Add a class method increment_book_count() to increase the count when a new book is added.?\n",
        "\n"
      ],
      "metadata": {
        "id": "nG0YQ5AzZt2K"
      }
    },
    {
      "cell_type": "code",
      "source": [
        "class Book:\n",
        "    total_books = 0  # Class variable to keep track of the total number of books\n",
        "\n",
        "    def __init__(self, title, author):\n",
        "        self.title = title\n",
        "        self.author = author\n",
        "        Book.increment_book_count()  # Call class method to increment the book count\n",
        "\n",
        "    @classmethod\n",
        "    def increment_book_count(cls):\n",
        "        cls.total_books += 1  # Increase the count of books\n",
        "\n",
        "# Create new book instances with updated details\n",
        "book1 = Book(\"The Catcher in the Rye\", \"J.D. Salinger\")\n",
        "book2 = Book(\"Pride and Prejudice\", \"Jane Austen\")\n",
        "book3 = Book(\"The Great Gatsby\", \"F. Scott Fitzgerald\")\n",
        "\n",
        "# Print total number of books\n",
        "print(\"Total books:\", Book.total_books)\n"
      ],
      "metadata": {
        "id": "SBu3oLzJZroJ",
        "colab": {
          "base_uri": "https://localhost:8080/"
        },
        "outputId": "fb43d7cd-837f-452e-9de3-a9f1b3826db1"
      },
      "execution_count": null,
      "outputs": [
        {
          "output_type": "stream",
          "name": "stdout",
          "text": [
            "Total books: 3\n"
          ]
        }
      ]
    },
    {
      "cell_type": "markdown",
      "source": [
        "12. Static Methods\n",
        "Assignment:\n",
        "Create a class TemperatureConverter with a static method celsius_to_fahrenheit(c) that returns the Fahrenheit value.?"
      ],
      "metadata": {
        "id": "d2xnGZeqZ4sy"
      }
    },
    {
      "cell_type": "code",
      "source": [
        "class TemperatureConverter:\n",
        "    @staticmethod\n",
        "    def celsius_to_fahrenheit(c):\n",
        "        return (c * 9/5) + 32\n",
        "\n",
        "# Call the static method without creating an object\n",
        "temp_in_f = TemperatureConverter.celsius_to_fahrenheit(25)\n",
        "print(f\"25°C = {temp_in_f}°F\")\n",
        "\n"
      ],
      "metadata": {
        "colab": {
          "base_uri": "https://localhost:8080/"
        },
        "id": "NlCNwi9UaAiD",
        "outputId": "cd002a3e-d970-445d-a0b5-28ce26e76835"
      },
      "execution_count": null,
      "outputs": [
        {
          "output_type": "stream",
          "name": "stdout",
          "text": [
            "25°C = 77.0°F\n"
          ]
        }
      ]
    },
    {
      "cell_type": "markdown",
      "source": [
        "13. Composition\n",
        "Assignment:\n",
        "Create a class Engine and a class Car. Use composition by passing an Engine object to the Car class during initialization. Access a method of the Engine class via the Car class.?"
      ],
      "metadata": {
        "id": "VvCJhQU-La3l"
      }
    },
    {
      "cell_type": "code",
      "source": [
        "# Engine class definition\n",
        "class Engine:\n",
        "    def run(self):\n",
        "        return \"Vroom! The engine is now active.\"\n",
        "\n",
        "# Car class using composition\n",
        "class Car:\n",
        "    def __init__(self, name, engine):\n",
        "        self.name = name          # Car's name\n",
        "        self.engine = engine      # Car has an Engine\n",
        "\n",
        "    def start(self):\n",
        "        # Include the car's name in the message\n",
        "        return f\"{self.name}: {self.engine.run()}\"\n",
        "\n",
        "# Create an Engine object\n",
        "my_engine = Engine()\n",
        "\n",
        "# Create a Car object with a name and engine\n",
        "my_car = Car(\"Toyota Corolla\", my_engine)\n",
        "\n",
        "# Start the car\n",
        "print(my_car.start())\n"
      ],
      "metadata": {
        "colab": {
          "base_uri": "https://localhost:8080/"
        },
        "id": "uyYloKMYNzKG",
        "outputId": "56d624a6-ccf9-4e5a-c434-eeffce45124f"
      },
      "execution_count": null,
      "outputs": [
        {
          "output_type": "stream",
          "name": "stdout",
          "text": [
            "Toyota Corolla: Vroom! The engine is now active.\n"
          ]
        }
      ]
    },
    {
      "cell_type": "markdown",
      "source": [
        "14. Aggregation\n",
        "Assignment:\n",
        "Create a class Department and a class Employee. Use aggregation by having a Department object store a reference to an Employee object that exists independently of it.?"
      ],
      "metadata": {
        "id": "2I0ZifG-OOkO"
      }
    },
    {
      "cell_type": "code",
      "source": [
        "# Employee class - independent\n",
        "class Employee:\n",
        "    def __init__(self, name, job_title):\n",
        "        self.name = name\n",
        "        self.job_title = job_title  # Employee's job title\n",
        "\n",
        "    def get_details(self):\n",
        "        return f\"Employee Name: {self.name} | Job Title: {self.job_title}\"\n",
        "\n",
        "# Department class - has an Employee, but doesn't own it\n",
        "class Department:\n",
        "    def __init__(self, dept_name, employee):\n",
        "        self.dept_name = dept_name\n",
        "        self.employee = employee  # Aggregation: uses existing employee object\n",
        "\n",
        "    def show_department_info(self):\n",
        "        return f\"Department: {self.dept_name} | {self.employee.get_details()}\"\n",
        "\n",
        "# Create an Employee object independently\n",
        "emp = Employee(\"Sobia Rao\", \"Senior Developer\")\n",
        "\n",
        "# Pass the Employee to Department (aggregation)\n",
        "dept = Department(\"IT\", emp)\n",
        "\n",
        "# Display department info\n",
        "print(dept.show_department_info())\n"
      ],
      "metadata": {
        "colab": {
          "base_uri": "https://localhost:8080/"
        },
        "id": "IyJHCxwaPnUN",
        "outputId": "ea7028a1-397a-4814-af17-92798724835c"
      },
      "execution_count": null,
      "outputs": [
        {
          "output_type": "stream",
          "name": "stdout",
          "text": [
            "Department: IT | Employee Name: Sobia Rao | Job Title: Senior Developer\n"
          ]
        }
      ]
    },
    {
      "cell_type": "markdown",
      "source": [
        "15. Method Resolution Order (MRO) and Diamond Inheritance\n",
        "Assignment:\n",
        "Create four classes:\n",
        "\n",
        "A with a method show(),\n",
        "\n",
        "B and C that inherit from A and override show(),\n",
        "\n",
        "D that inherits from both B and C.\n",
        "\n",
        "Create an object of D and call show() to observe MRO.?"
      ],
      "metadata": {
        "id": "XXYv5H0jQFJ9"
      }
    },
    {
      "cell_type": "code",
      "source": [
        "# Class A with a method show\n",
        "class A:\n",
        "    def show(self):\n",
        "        return \"Class A: show() method\"\n",
        "\n",
        "# Class B inherits from A and overrides show\n",
        "class B(A):\n",
        "    def show(self):\n",
        "        return \"Class B: show() method\"\n",
        "\n",
        "# Class C inherits from A and overrides show\n",
        "class C(A):\n",
        "    def show(self):\n",
        "        return \"Class C: show() method\"\n",
        "\n",
        "# Class D inherits from both B and C\n",
        "class D(B, C):\n",
        "    pass  # No need to override show, we'll observe MRO behavior\n",
        "\n",
        "# Create an object of D\n",
        "obj = D()\n",
        "\n",
        "\n",
        "\n",
        "# Call show() method on D object and observe MRO\n",
        "print(obj.show())\n",
        "\n",
        "print(D.__mro__)\n",
        "\n"
      ],
      "metadata": {
        "colab": {
          "base_uri": "https://localhost:8080/"
        },
        "id": "9ecwYeSvQKrm",
        "outputId": "7b181d5c-5900-4d06-a0d2-baa8b8b8c32d"
      },
      "execution_count": null,
      "outputs": [
        {
          "output_type": "stream",
          "name": "stdout",
          "text": [
            "Class B: show() method\n",
            "(<class '__main__.D'>, <class '__main__.B'>, <class '__main__.C'>, <class '__main__.A'>, <class 'object'>)\n"
          ]
        }
      ]
    },
    {
      "cell_type": "markdown",
      "source": [
        "16. Function Decorators\n",
        "Assignment:\n",
        "Write a decorator function log_function_call that prints \"Function is being called\" before a function executes. Apply it to a function say_hello().?"
      ],
      "metadata": {
        "id": "Ncodpn6-RZc9"
      }
    },
    {
      "cell_type": "code",
      "source": [
        "# Define the decorator function\n",
        "def log_function_call(func):\n",
        "    def wrapper():\n",
        "        print(\"Function is being called\")\n",
        "        return func()\n",
        "    return wrapper\n",
        "\n",
        "# Define the say_hello function with a new message\n",
        "@log_function_call\n",
        "def say_hello():\n",
        "    print(\"How are you today?\")\n",
        "\n",
        "# Call the decorated function\n",
        "say_hello()\n"
      ],
      "metadata": {
        "colab": {
          "base_uri": "https://localhost:8080/"
        },
        "id": "OEbC3zZxSJhH",
        "outputId": "bb4582ba-cf59-4b3c-e7e7-65d229ace78a"
      },
      "execution_count": null,
      "outputs": [
        {
          "output_type": "stream",
          "name": "stdout",
          "text": [
            "Function is being called\n",
            "How are you today?\n"
          ]
        }
      ]
    },
    {
      "cell_type": "markdown",
      "source": [
        "17. Class Decorators\n",
        "Assignment:\n",
        "Create a class decorator add_greeting that modifies a class to add a greet() method returning \"Hello from Decorator!\". Apply it to a class Person.?\n",
        "\n"
      ],
      "metadata": {
        "id": "zZarLQo9SQQd"
      }
    },
    {
      "cell_type": "code",
      "source": [
        "# Define the class decorator with updated greeting message\n",
        "def add_greeting(cls):\n",
        "    # Add greet method to the class\n",
        "    def greet(self):\n",
        "        return \"Greetings from the Decorator!\"  # New greeting message\n",
        "\n",
        "    cls.greet = greet  # Add the greet method to the class\n",
        "    return cls\n",
        "\n",
        "# Apply the class decorator to the updated Person class\n",
        "@add_greeting\n",
        "class Person:\n",
        "    def __init__(self, name, age):\n",
        "        self.name = name\n",
        "        self.age = age\n",
        "\n",
        "    def introduce(self):\n",
        "        return f\"Hi, my name is {self.name} and I am {self.age} years old.\"\n",
        "\n",
        "    def birthday(self):\n",
        "        self.age += 1\n",
        "        return f\"Happy Birthday {self.name}! You are now {self.age} years old.\"\n",
        "\n",
        "# Create a Person object with both name and age\n",
        "person = Person(\"SOBIA\", 27)\n",
        "\n",
        "# Call the new greet method added by the decorator\n",
        "print(person.greet())\n",
        "\n",
        "# Call the introduce method\n",
        "print(person.introduce())\n",
        "\n",
        "# Call the birthday method\n",
        "print(person.birthday())\n"
      ],
      "metadata": {
        "colab": {
          "base_uri": "https://localhost:8080/"
        },
        "id": "NI5lNpjxS5MI",
        "outputId": "0de69e7c-27f1-43fe-959a-b2850d924d7b"
      },
      "execution_count": null,
      "outputs": [
        {
          "output_type": "stream",
          "name": "stdout",
          "text": [
            "Greetings from the Decorator!\n",
            "Hi, my name is SOBIA and I am 27 years old.\n",
            "Happy Birthday SOBIA! You are now 28 years old.\n"
          ]
        }
      ]
    },
    {
      "cell_type": "markdown",
      "source": [
        "18. Property Decorators: @property, @setter, and @deleter\n",
        "Assignment:\n",
        "Create a class Product with a private attribute _price. Use @property to get the price, @price.setter to update it, and @price.deleter to delete it.?\n",
        "\n"
      ],
      "metadata": {
        "id": "HTNnlWe6TdGY"
      }
    },
    {
      "cell_type": "code",
      "source": [
        "class Product:\n",
        "    def __init__(self, price):\n",
        "        self._price = price\n",
        "\n",
        "    # Getter using @property\n",
        "    @property\n",
        "    def price(self):\n",
        "        print(\"Getting price...\")\n",
        "        return self._price\n",
        "\n",
        "    # Setter using @price.setter\n",
        "    @price.setter\n",
        "    def price(self, value):\n",
        "        if value < 0:\n",
        "            raise ValueError(\"Price cannot be negative.\")\n",
        "        print(\"Setting price...\")\n",
        "        self._price = value\n",
        "\n",
        "    # Deleter using @price.deleter\n",
        "    @price.deleter\n",
        "    def price(self):\n",
        "        print(\"Deleting price...\")\n",
        "        del self._price\n",
        "\n",
        "# Example usage\n",
        "product = Product(1000)\n",
        "\n",
        "# Get price\n",
        "print(product.price)\n",
        "\n",
        "# Set price\n",
        "product.price = 500\n",
        "print(product.price)\n",
        "\n",
        "# Delete price\n",
        "del product.price\n"
      ],
      "metadata": {
        "colab": {
          "base_uri": "https://localhost:8080/"
        },
        "id": "sF1Y73C70WNx",
        "outputId": "18f3202e-e843-41a1-b3b4-f66c984aa894"
      },
      "execution_count": 2,
      "outputs": [
        {
          "output_type": "stream",
          "name": "stdout",
          "text": [
            "Getting price...\n",
            "1000\n",
            "Setting price...\n",
            "Getting price...\n",
            "500\n",
            "Deleting price...\n"
          ]
        }
      ]
    },
    {
      "cell_type": "markdown",
      "source": [
        "19. callable() and __call__()\n",
        "Assignment:\n",
        "Create a class Multiplier with an __init__() to set a factor. Define a __call__() method that multiplies an input by the factor. Test it with callable() and by calling the object like a function.?"
      ],
      "metadata": {
        "id": "U8TlF21O08_I"
      }
    },
    {
      "cell_type": "code",
      "source": [
        "\n",
        "\n",
        "class Multiplier:\n",
        "    def __init__(self, factor):\n",
        "        self.factor = factor\n",
        "\n",
        "    def __call__(self, value):\n",
        "        return value * self.factor\n",
        "\n",
        "\n",
        "double = Multiplier(2)\n",
        "\n",
        "\n",
        "print(\"Is 'double' callable?\", callable(double))  # Output: True\n",
        "\n",
        "\n",
        "result = double(5)  # 5 * 2 = 10\n",
        "print(\"Result of calling double(5):\", result)\n"
      ],
      "metadata": {
        "colab": {
          "base_uri": "https://localhost:8080/"
        },
        "id": "we67OYN-1n9l",
        "outputId": "c80061c8-66a7-437a-a257-98bebe36b5f2"
      },
      "execution_count": 3,
      "outputs": [
        {
          "output_type": "stream",
          "name": "stdout",
          "text": [
            "Is 'double' callable? True\n",
            "Result of calling double(5): 10\n"
          ]
        }
      ]
    },
    {
      "cell_type": "markdown",
      "source": [
        "20. Creating a Custom Exception\n",
        "Assignment:\n",
        "Create a custom exception InvalidAgeError. Write a function check_age(age) that raises this exception if age < 18. Handle it with try...except.?"
      ],
      "metadata": {
        "id": "gouTpKj92WuE"
      }
    },
    {
      "cell_type": "code",
      "source": [
        "# Assignment by [sobia rao]\n",
        "\n",
        "# Custom Exception class\n",
        "class InvalidAgeError(Exception):\n",
        "    \"\"\"Raised when the age is less than 18\"\"\"\n",
        "    pass\n",
        "\n",
        "# Function that checks age\n",
        "def check_age(age):\n",
        "    if age < 18:\n",
        "        raise InvalidAgeError(\"Age must be at least 18.\")\n",
        "    else:\n",
        "        print(\"Access granted. Age is valid.\")\n",
        "\n",
        "# Test the function with try...except\n",
        "try:\n",
        "    user_age = int(input(\"Enter your age: \"))\n",
        "    check_age(user_age)\n",
        "except InvalidAgeError as e:\n",
        "    print(\"InvalidAgeError:\", e)\n",
        "except ValueError:\n",
        "    print(\"Please enter a valid number.\")\n"
      ],
      "metadata": {
        "colab": {
          "base_uri": "https://localhost:8080/"
        },
        "id": "HBANVkj62cZE",
        "outputId": "de3d37a9-892c-4215-d600-c30aff932b9c"
      },
      "execution_count": 5,
      "outputs": [
        {
          "output_type": "stream",
          "name": "stdout",
          "text": [
            "Enter your age: 18\n",
            "Access granted. Age is valid.\n"
          ]
        }
      ]
    },
    {
      "cell_type": "code",
      "source": [
        "# Assignment by [sobiarao]\n",
        "\n",
        "class Countdown:\n",
        "    def __init__(self, start):\n",
        "        self.start = start\n",
        "        self.current = start  # Initialize current position for iteration\n",
        "\n",
        "    def __iter__(self):\n",
        "        self.current = self.start\n",
        "        return self\n",
        "\n",
        "    def __next__(self):\n",
        "        if self.current < 0:\n",
        "            raise StopIteration  # End iteration when below 0\n",
        "        else:\n",
        "            value = self.current\n",
        "            self.current -= 1\n",
        "            return value\n",
        "\n",
        "# Example usage:\n",
        "print(\" Countdown starts:\")\n",
        "for number in Countdown(10):\n",
        "    print(f\"⏳ {number}\")\n",
        "print(\"Countdown complete!\")\n"
      ],
      "metadata": {
        "colab": {
          "base_uri": "https://localhost:8080/"
        },
        "id": "9udNitrl3fhg",
        "outputId": "e69f3c01-9b20-45d4-bd84-fde781a35f6b"
      },
      "execution_count": 8,
      "outputs": [
        {
          "output_type": "stream",
          "name": "stdout",
          "text": [
            " Countdown starts:\n",
            "⏳ 10\n",
            "⏳ 9\n",
            "⏳ 8\n",
            "⏳ 7\n",
            "⏳ 6\n",
            "⏳ 5\n",
            "⏳ 4\n",
            "⏳ 3\n",
            "⏳ 2\n",
            "⏳ 1\n",
            "⏳ 0\n",
            "Countdown complete!\n"
          ]
        }
      ]
    },
    {
      "cell_type": "markdown",
      "source": [
        "21. Make a Custom Class Iterable\n",
        "Assignment:\n",
        "Create a class Countdown that takes a start number. Implement __iter__() and __next__() to make the object iterable in a for-loop, counting down to 0.?"
      ],
      "metadata": {
        "id": "wgEQegr43Ykw"
      }
    }
  ]
}